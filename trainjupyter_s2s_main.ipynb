{
 "cells": [
  {
   "cell_type": "code",
   "execution_count": 1,
   "id": "a848790c",
   "metadata": {
    "execution": {
     "iopub.execute_input": "2024-08-12T18:52:24.208596Z",
     "iopub.status.busy": "2024-08-12T18:52:24.208393Z",
     "iopub.status.idle": "2024-08-12T18:52:24.220496Z",
     "shell.execute_reply": "2024-08-12T18:52:24.220033Z"
    }
   },
   "outputs": [
    {
     "data": {
      "text/plain": [
       "' (C) Copyright IBM Corp. 2024.\\n    Licensed under the Apache License, Version 2.0 (the \"License\");\\n    you may not use this file except in compliance with the License.\\n    You may obtain a copy of the License at\\n           http://www.apache.org/licenses/LICENSE-2.0\\n     Unless required by applicable law or agreed to in writing, software\\n     distributed under the License is distributed on an \"AS IS\" BASIS,\\n     WITHOUT WARRANTIES OR CONDITIONS OF ANY KIND, either express or implied.\\n     See the License for the specific language governing permissions and\\n     limitations under the License.\\n Project name: Model Urban Growth MUG\\n'"
      ]
     },
     "execution_count": 1,
     "metadata": {},
     "output_type": "execute_result"
    }
   ],
   "source": [
    "''' (C) Copyright IBM Corp. 2024.\n",
    "    Licensed under the Apache License, Version 2.0 (the \"License\");\n",
    "    you may not use this file except in compliance with the License.\n",
    "    You may obtain a copy of the License at\n",
    "           http://www.apache.org/licenses/LICENSE-2.0\n",
    "     Unless required by applicable law or agreed to in writing, software\n",
    "     distributed under the License is distributed on an \"AS IS\" BASIS,\n",
    "     WITHOUT WARRANTIES OR CONDITIONS OF ANY KIND, either express or implied.\n",
    "     See the License for the specific language governing permissions and\n",
    "     limitations under the License.\n",
    " Project name: Model Urban Growth MUG\n",
    "'''"
   ]
  },
  {
   "cell_type": "code",
   "execution_count": 2,
   "id": "8d7e2ff0",
   "metadata": {
    "execution": {
     "iopub.execute_input": "2024-08-12T18:52:24.223099Z",
     "iopub.status.busy": "2024-08-12T18:52:24.222875Z",
     "iopub.status.idle": "2024-08-12T18:52:24.240085Z",
     "shell.execute_reply": "2024-08-12T18:52:24.239613Z"
    }
   },
   "outputs": [],
   "source": [
    "%load_ext autoreload\n",
    "%autoreload 2"
   ]
  },
  {
   "cell_type": "markdown",
   "id": "d32557b1-54fa-41c8-8f13-a65f86557a94",
   "metadata": {},
   "source": [
    "## Sequence to Sequence model to identify urban areas"
   ]
  },
  {
   "cell_type": "markdown",
   "id": "711bfa88",
   "metadata": {},
   "source": [
    "#### This notebook performs a training, validation and testing of a sequence-to-sequence convLSTM model to predict urban settlements. The model training used a time series from Worldpop.org between 2000 and 2004 and the test carried out used data from the year 2015."
   ]
  },
  {
   "cell_type": "markdown",
   "id": "dbb4bd86-bfd2-4742-b33b-76ac0a88aa09",
   "metadata": {},
   "source": [
    "### Import packages"
   ]
  },
  {
   "cell_type": "code",
   "execution_count": 2,
   "id": "d1b098eb-c33e-42df-be91-6fc6d812a41e",
   "metadata": {
    "execution": {
     "iopub.execute_input": "2024-08-12T18:52:24.242888Z",
     "iopub.status.busy": "2024-08-12T18:52:24.242693Z",
     "iopub.status.idle": "2024-08-12T18:52:45.331833Z",
     "shell.execute_reply": "2024-08-12T18:52:45.331160Z"
    }
   },
   "outputs": [],
   "source": [
    "import random\n",
    "import numpy as np\n",
    "from math import floor\n",
    "import pandas as pd\n",
    "import os\n",
    "import json\n",
    "\n",
    "from datetime import datetime\n",
    "\n",
    "import mug.datasets.worldpop as wp\n",
    "from mug.nn import SequenceToSequence\n",
    "from mug.datasets import ForecastingDataset\n",
    "from mug.datasets.utils import unbind_sequence\n",
    "from mug.samplers import ForecastingGridGeoSampler, ForecastingRandomGeoSampler\n",
    "from mug.samplers import RandomMultiSampler, SequentialMultiSampler\n",
    "from mug.transforms import factor, normalize_binary_land_mask, chain, reclassify_time_differences\n",
    "\n",
    "import torch\n",
    "from torch import optim, nn\n",
    "from torch.utils.data import DataLoader\n",
    "\n",
    "from torchgeo.datasets import BoundingBox\n",
    "\n",
    "import time\n",
    "from torch.profiler import profile, record_function, ProfilerActivity\n",
    "\n",
    "from mug.transforms import factor, normalize_binary_land_mask, chain, reclassify_time_differences\n",
    "\n",
    "from mug.utils.metrics import MyAccuracy\n",
    "from mug.utils.functions import target_mask, class_mask, pred_mask\n",
    "from mug.utils.loss import LossComputation,LossPlotter, AccPlotter\n"
   ]
  },
  {
   "cell_type": "code",
   "execution_count": 3,
   "id": "1a4de637",
   "metadata": {
    "execution": {
     "iopub.execute_input": "2024-08-12T18:52:45.335670Z",
     "iopub.status.busy": "2024-08-12T18:52:45.335271Z",
     "iopub.status.idle": "2024-08-12T18:52:45.401478Z",
     "shell.execute_reply": "2024-08-12T18:52:45.400992Z"
    }
   },
   "outputs": [],
   "source": [
    "def year(y: int) -> float:\n",
    "    return datetime(y,1,1).timestamp()"
   ]
  },
  {
   "cell_type": "markdown",
   "id": "f232713a-75c3-447c-89ee-c64124f759e6",
   "metadata": {},
   "source": [
    "### Dataset and config variables"
   ]
  },
  {
   "cell_type": "code",
   "execution_count": 59,
   "id": "e95b00ed-8d9c-46fd-b65b-e3ae1c6b265e",
   "metadata": {
    "execution": {
     "iopub.execute_input": "2024-08-12T18:52:45.404406Z",
     "iopub.status.busy": "2024-08-12T18:52:45.404193Z",
     "iopub.status.idle": "2024-08-12T18:52:45.465279Z",
     "shell.execute_reply": "2024-08-12T18:52:45.464803Z"
    }
   },
   "outputs": [],
   "source": [
    "# SAMPLING\n",
    "\n",
    "SIZE = 120\n",
    "START_YEAR = 2000  # start year\n",
    "SEQUENCE = 5  # number of time steps to train on (plus one as target)\n",
    "ROI_FILE=\"rois.csv\"  # this file should be in the root of the project\n",
    "ROI_COUNTRIES = []  # list of country codes to sample from, all if empty\n",
    "TRAINING_SAMPLES = 512  # total number of training samples\n",
    "ROI_SAMPLES = 32  # number of samples per ROI (only valid if random)\n",
    "SEED = 5040\n",
    "\n",
    "# DATA\n",
    "DATA_DIR=\"../../../worldpop/\" #Download the worldpop and ESA data , vide README to access the link\n",
    "\n",
    "# COMPUTE RELATED\n",
    "\n",
    "ACCELERATOR = \"gpu\"\n",
    "PRECISION = 16\n",
    "NUM_WORKERS = 1\n",
    "\n",
    "# TRAINING HYPERPARAMETERS\n",
    "\n",
    "STRIDE = 115\n",
    "NUM_CLASSES = 4\n",
    "BATCH_SIZE = 32 \n",
    "NUM_EPOCHS = 75\n",
    "\n",
    "INPUT_CHANNELS = 5\n",
    "LEARNING_RATE = 1e-4\n",
    "TARGET_SEQUENCE = 1\n",
    "\n",
    "# SAVING MODELS \n",
    "SAVING_DIR = \"saved_models/tb_logs/\"  \n",
    "os.makedirs(SAVING_DIR, exist_ok=True)"
   ]
  },
  {
   "cell_type": "markdown",
   "id": "dacfd0e7",
   "metadata": {},
   "source": [
    "## Data from worldpop"
   ]
  },
  {
   "cell_type": "code",
   "execution_count": 5,
   "id": "e1c92df3-5955-4780-96a1-96bbbecd3967",
   "metadata": {
    "execution": {
     "iopub.execute_input": "2024-08-12T18:52:45.468121Z",
     "iopub.status.busy": "2024-08-12T18:52:45.467905Z",
     "iopub.status.idle": "2024-08-12T18:52:47.290968Z",
     "shell.execute_reply": "2024-08-12T18:52:47.290367Z"
    }
   },
   "outputs": [],
   "source": [
    "uds = wp.UrbanLandCover(cache=True, root=DATA_DIR,\n",
    "                        transforms=lambda sample: chain(sample, transforms=[normalize_binary_land_mask, \n",
    "                                                                            reclassify_time_differences]))\n",
    "cds = wp.CropLandCover(cache=True, root=DATA_DIR, transforms=normalize_binary_land_mask)\n",
    "wds = wp.Water(cache=True, root=DATA_DIR, transforms=normalize_binary_land_mask)\n",
    "rds = wp.Roads(cache=True, root=DATA_DIR, transforms=normalize_binary_land_mask)\n",
    "sds = wp.Slope(cache=True, root=DATA_DIR, transforms=lambda sample: factor(sample, weight=1./90.))\n",
    "#vds = wp.VegetationLandCover(cache=True, root=DATA_DIR, transforms=normalize_binary_land_mask)\n",
    "#bds = wp.BareLandCover(cache=True, root=DATA_DIR, transforms=normalize_binary_land_mask)\n",
    "#gds = wp.GrassLandCover(cache=True, root=DATA_DIR, transforms=normalize_binary_land_mask)\n",
    "#eds = wp.Elevation(cache=True, root=DATA_DIR, transforms=lambda sample: factor(sample, weight=.01))\n",
    "#pds = wp.Population(cache=True, root=DATA_DIR, transforms=lambda sample: factor(sample, weight=.001))\n",
    "#fds = wp.FloodedLandCover(cache=True, root=DATA_DIR, transforms=normalize_binary_land_mask)"
   ]
  },
  {
   "cell_type": "code",
   "execution_count": 6,
   "id": "48445cd7-5a60-4503-ad07-c965a5733e93",
   "metadata": {
    "execution": {
     "iopub.execute_input": "2024-08-12T18:52:47.294555Z",
     "iopub.status.busy": "2024-08-12T18:52:47.294317Z",
     "iopub.status.idle": "2024-08-12T18:52:47.364253Z",
     "shell.execute_reply": "2024-08-12T18:52:47.363756Z"
    }
   },
   "outputs": [
    {
     "name": "stdout",
     "output_type": "stream",
     "text": [
      "Converting Roads res from 0.0008333333299999999 to 0.00083333333\n",
      "Converting Slope res from 0.0008333333300000233 to 0.00083333333\n"
     ]
    }
   ],
   "source": [
    "variates = [uds]\n",
    "covariates =  [cds, wds, rds, sds]\n",
    "worldpop = ForecastingDataset(variates, covariates)"
   ]
  },
  {
   "cell_type": "code",
   "execution_count": 7,
   "id": "4996274c-3c7c-478b-88bb-d27143f695d4",
   "metadata": {
    "execution": {
     "iopub.execute_input": "2024-08-12T18:52:47.367107Z",
     "iopub.status.busy": "2024-08-12T18:52:47.366884Z",
     "iopub.status.idle": "2024-08-12T18:52:47.425849Z",
     "shell.execute_reply": "2024-08-12T18:52:47.425374Z"
    }
   },
   "outputs": [],
   "source": [
    "def set_seed(seed):\n",
    "    random.seed(seed)\n",
    "    np.random.seed(seed)\n",
    "    torch.manual_seed(seed)\n",
    "    if torch.cuda.is_available():\n",
    "        torch.cuda.manual_seed_all(seed)"
   ]
  },
  {
   "cell_type": "code",
   "execution_count": 8,
   "id": "0646ef14-48d1-4428-b0b8-2c512e898c2b",
   "metadata": {
    "execution": {
     "iopub.execute_input": "2024-08-12T18:52:47.428670Z",
     "iopub.status.busy": "2024-08-12T18:52:47.428464Z",
     "iopub.status.idle": "2024-08-12T18:52:47.897891Z",
     "shell.execute_reply": "2024-08-12T18:52:47.897338Z"
    }
   },
   "outputs": [
    {
     "name": "stdout",
     "output_type": "stream",
     "text": [
      "Number of training samples: 384\n",
      "Number of validation samples: 64\n",
      "Number of test samples: 64\n"
     ]
    }
   ],
   "source": [
    "# Load ROIs\n",
    "set_seed(SEED)\n",
    "\n",
    "rois = pd.read_csv(ROI_FILE)\n",
    "if ROI_COUNTRIES:\n",
    "    rois = rois[rois['COUNTRY'].isin(ROI_COUNTRIES)]\n",
    "\n",
    "n = max(1, floor(TRAINING_SAMPLES / ROI_SAMPLES))\n",
    "if n > len(rois):\n",
    "    raise ValueError(\"Not enough ROIs.\")\n",
    "rois = rois.sample(n=n, replace=False)\n",
    "\n",
    "# Instantiate BoundingBox objects\n",
    "bboxes = [\n",
    "    BoundingBox(\n",
    "        minx=roi['MINX'],\n",
    "        maxx=roi['MAXX'],\n",
    "        miny=roi['MINY'],\n",
    "        maxy=roi['MAXY'],\n",
    "        mint=year(START_YEAR),\n",
    "        maxt=year(START_YEAR + SEQUENCE),\n",
    "    ) for _, roi in rois.iterrows()\n",
    "]\n",
    "\n",
    "# Split bounding boxes into training, validation, and test sets\n",
    "num_bboxes = len(bboxes)\n",
    "train_split_idx, val_split_idx = int(0.8 * num_bboxes), int(0.9 * num_bboxes)\n",
    "train_bboxes, val_bboxes, test_bboxes = (\n",
    "    bboxes[:train_split_idx], bboxes[train_split_idx:val_split_idx], bboxes[val_split_idx:]\n",
    ")\n",
    "\n",
    "# Create samplers for bounding boxes\n",
    "def create_samplers(bboxes):\n",
    "    return tuple(ForecastingRandomGeoSampler(uds, size=SIZE, length=ROI_SAMPLES, roi=bbox) for bbox in bboxes)\n",
    "\n",
    "train_samplers, val_samplers, test_samplers = map(create_samplers, [train_bboxes, val_bboxes, test_bboxes])\n",
    "\n",
    "# Create multisamplers\n",
    "train_multisampler, val_multisampler, test_multisampler = map(RandomMultiSampler, [train_samplers, val_samplers, test_samplers])\n",
    "\n",
    "# Create DataLoaders\n",
    "def create_dataloader(sampler):\n",
    "    return DataLoader(\n",
    "        worldpop,\n",
    "        sampler=sampler,\n",
    "        num_workers=NUM_WORKERS,\n",
    "        batch_size=BATCH_SIZE,\n",
    "        collate_fn=lambda batch: unbind_sequence(batch, TARGET_SEQUENCE)\n",
    "    )\n",
    "\n",
    "train_dataloader, val_dataloader, test_dataloader = map(create_dataloader, [train_multisampler, val_multisampler, test_multisampler])\n",
    "\n",
    "# Print number of samples in each DataLoader\n",
    "for name, dataloader in zip(['training', 'validation', 'test'], [train_dataloader, val_dataloader, test_dataloader]):\n",
    "    print(f\"Number of {name} samples: {len(dataloader.sampler)}\")"
   ]
  },
  {
   "cell_type": "markdown",
   "id": "1f5ca4a3-6640-40c9-b0bc-88a03cd6a411",
   "metadata": {},
   "source": [
    "### Model"
   ]
  },
  {
   "cell_type": "code",
   "execution_count": 9,
   "id": "8cbad85d-8875-43f2-9bd2-b7f3113d2c45",
   "metadata": {
    "execution": {
     "iopub.execute_input": "2024-08-12T18:52:47.900889Z",
     "iopub.status.busy": "2024-08-12T18:52:47.900658Z",
     "iopub.status.idle": "2024-08-12T18:52:47.964329Z",
     "shell.execute_reply": "2024-08-12T18:52:47.963835Z"
    }
   },
   "outputs": [
    {
     "name": "stdout",
     "output_type": "stream",
     "text": [
      "CUDA device is available. Using GPU.\n"
     ]
    }
   ],
   "source": [
    "# defining device for computation\n",
    "\n",
    "def get_device():\n",
    "    if torch.cuda.is_available():\n",
    "        device = torch.device(\"cuda\")\n",
    "        print(\"CUDA device is available. Using GPU.\")\n",
    "    else:\n",
    "        device = torch.device(\"cpu\")\n",
    "        print(\"CUDA device is not available. Using CPU.\")\n",
    "    return device\n",
    "\n",
    "# Example usage\n",
    "DEVICE = get_device()"
   ]
  },
  {
   "cell_type": "code",
   "execution_count": 10,
   "id": "9fd109dc-fafe-4357-8e31-b5ea5b5fd9a8",
   "metadata": {
    "execution": {
     "iopub.execute_input": "2024-08-12T18:52:47.967132Z",
     "iopub.status.busy": "2024-08-12T18:52:47.966921Z",
     "iopub.status.idle": "2024-08-12T18:52:48.738583Z",
     "shell.execute_reply": "2024-08-12T18:52:48.737954Z"
    }
   },
   "outputs": [],
   "source": [
    "# Sequence to sequence model\n",
    "\n",
    "model = SequenceToSequence(num_channels=INPUT_CHANNELS,\n",
    "                           num_kernels=64,\n",
    "                           kernel_size=(3,3),\n",
    "                           padding=(1,1),\n",
    "                           activation=\"relu\",\n",
    "                           frame_size=(SIZE,SIZE),\n",
    "                           num_layers=3,).to(DEVICE)\n",
    "# print(model)"
   ]
  },
  {
   "cell_type": "markdown",
   "id": "0e637bbf-c88d-4689-8630-878358cacfaf",
   "metadata": {},
   "source": [
    "### Training loop"
   ]
  },
  {
   "cell_type": "code",
   "execution_count": 12,
   "id": "b9071b39-5375-4b5f-bab3-d61a411a7bab",
   "metadata": {
    "execution": {
     "iopub.execute_input": "2024-08-12T18:52:48.742507Z",
     "iopub.status.busy": "2024-08-12T18:52:48.742260Z",
     "iopub.status.idle": "2024-08-12T18:52:48.804349Z",
     "shell.execute_reply": "2024-08-12T18:52:48.803866Z"
    }
   },
   "outputs": [],
   "source": [
    "WEIGHT = torch.tensor(\n",
    "          [[0.30],  # class 0 (water) \n",
    "          [0.05],   # class 1 (land)\n",
    "          [0.50],   # class 2 (non-bs to bs)\n",
    "          [0.15]],  # class 3 (bs) \n",
    "    device=DEVICE)"
   ]
  },
  {
   "cell_type": "code",
   "execution_count": 13,
   "id": "9b1abb31-b1a0-426f-b632-8c3bcead2490",
   "metadata": {
    "execution": {
     "iopub.execute_input": "2024-08-12T18:52:48.807162Z",
     "iopub.status.busy": "2024-08-12T18:52:48.806944Z",
     "iopub.status.idle": "2024-08-12T18:52:48.873543Z",
     "shell.execute_reply": "2024-08-12T18:52:48.873032Z"
    }
   },
   "outputs": [],
   "source": [
    "weight = WEIGHT\n",
    "\n",
    "best_val_loss = float('inf')\n",
    "best_model_path = os.path.join(SAVING_DIR, 'best_model_'+str(NUM_EPOCHS)+'.pth')\n",
    "last_model_path = os.path.join(SAVING_DIR, 'last_model_'+str(NUM_EPOCHS)+'.pth')\n",
    "best_model_meta_path = os.path.join(SAVING_DIR, 'best_model_meta_'+str(NUM_EPOCHS)+'.json')\n",
    "last_model_meta_path = os.path.join(SAVING_DIR, 'last_model_meta_'+str(NUM_EPOCHS)+'.json')\n",
    "history_path = os.path.join(SAVING_DIR, 'training_history_'+str(NUM_EPOCHS)+'.npy')\n",
    "\n",
    "# Initialize history lists to track losses\n",
    "train_loss_history = []\n",
    "val_loss_history = []\n",
    "train_accuracy_history = []\n",
    "val_accuracy_history = []\n",
    "\n",
    "# Initialize the LossComputation and MyAccuracy classes\n",
    "loss_computer = LossComputation(DEVICE, BATCH_SIZE, SIZE, NUM_CLASSES, weight)\n",
    "accuracy_metric = MyAccuracy(BATCH_SIZE, SIZE, NUM_CLASSES).to(DEVICE)\n",
    "\n",
    "# Optimizer\n",
    "optimizer = optim.Adam(model.parameters(), lr=LEARNING_RATE)"
   ]
  },
  {
   "cell_type": "code",
   "execution_count": null,
   "id": "f08d4c39-fecc-44c9-a1f3-0128ea444cfb",
   "metadata": {
    "execution": {
     "iopub.execute_input": "2024-08-12T18:52:48.876550Z",
     "iopub.status.busy": "2024-08-12T18:52:48.876334Z",
     "iopub.status.idle": "2024-08-13T14:42:51.365386Z",
     "shell.execute_reply": "2024-08-13T14:42:51.364677Z"
    },
    "scrolled": true
   },
   "outputs": [],
   "source": [
    "best_val_loss = float('inf')\n",
    "\n",
    "for epoch in range(0, NUM_EPOCHS):\n",
    "    train_loss = 0.\n",
    "    print(f\"Epoch {epoch+1}: Batch \", end=\"\")\n",
    "\n",
    "    # Training loop\n",
    "    model.train()\n",
    "    for batch_num, (x, y) in enumerate(train_dataloader):\n",
    "        print(f\"{batch_num+1}, \", end=\"\")\n",
    "\n",
    "        # Preprocess inputs\n",
    "        # Transpose the tensors to switch the time_steps and number_channels dimensions\n",
    "        x = torch.transpose(x, 1, 2).to(DEVICE)\n",
    "        y = torch.transpose(y, 1, 2).squeeze().to(DEVICE)\n",
    "\n",
    "        # Forward pass\n",
    "        y_hat = model(x)\n",
    "        y_hat = y_hat.squeeze()  # match the shape of y\n",
    "        \n",
    "        # Compute loss\n",
    "        loss = loss_computer.compute_loss(y_hat, y)\n",
    "        \n",
    "        # backpropagation\n",
    "        loss.backward()\n",
    "        \n",
    "        # iteration updates\n",
    "        optimizer.step()\n",
    "        optimizer.zero_grad()\n",
    "        train_loss += loss.item()\n",
    "        \n",
    "        # Update accuracy metric\n",
    "        accuracy_metric.update(y_hat[:, 0], y[:, 0])\n",
    "\n",
    "    \n",
    "    train_loss /= len(train_dataloader.sampler)\n",
    "    train_accuracy = accuracy_metric.compute().item()\n",
    "    accuracy_metric.reset()\n",
    "    print(f\"Training Loss: {train_loss:.3f}, Training Accuracy: {train_accuracy:.3f}\")\n",
    "\n",
    "\n",
    "    # Validation loop\n",
    "    model.eval()\n",
    "    val_loss = 0.0\n",
    "    with torch.no_grad():\n",
    "        for batch_num, (x, y) in enumerate(val_dataloader):\n",
    "            print(f\"{batch_num+1}, \", end=\"\")\n",
    "            \n",
    "            # Preprocess inputs\n",
    "            x = torch.transpose(x, 1, 2).to(DEVICE)\n",
    "            y = torch.transpose(y, 1, 2).squeeze().to(DEVICE)\n",
    "            \n",
    "            # Forward pass\n",
    "            y_hat = model(x)\n",
    "            y_hat = y_hat.squeeze()  # match the shape of y\n",
    "\n",
    "            # Compute loss\n",
    "            loss = loss_computer.compute_loss(y_hat, y)\n",
    "            val_loss += loss.item()\n",
    "\n",
    "            # Update accuracy metric\n",
    "            accuracy_metric.update(y_hat[:, 0], y[:, 0])\n",
    "\n",
    "        \n",
    "        val_loss /= len(val_dataloader.sampler)\n",
    "        val_accuracy = accuracy_metric.compute().item()\n",
    "        accuracy_metric.reset()\n",
    "        print(f\"Validation Loss: {val_loss:.3f}, Validation Accuracy: {val_accuracy:.3f}\")\n",
    "\n",
    "    # Save the best model based on validation loss\n",
    "    if val_loss < best_val_loss:\n",
    "        best_val_loss = val_loss\n",
    "        torch.save(model.state_dict(), best_model_path)\n",
    "        best_model_meta = {\n",
    "            \"epoch\": epoch + 1,\n",
    "            \"training_loss\": train_loss,\n",
    "            \"validation_loss\": val_loss,\n",
    "            \"training_accuracy\": train_accuracy,\n",
    "            \"validation_accuracy\": val_accuracy\n",
    "        }\n",
    "        with open(best_model_meta_path, 'w') as f:\n",
    "            json.dump(best_model_meta, f)\n",
    "        print(f\"Best model saved with validation loss: {best_val_loss:.2f} at {best_model_path}\")\n",
    "\n",
    "    # Save the last model, overwriting each time\n",
    "    torch.save(model.state_dict(), last_model_path)\n",
    "    last_model_meta = {\n",
    "        \"epoch\": epoch + 1,\n",
    "        \"training_loss\": train_loss,\n",
    "        \"validation_loss\": val_loss,\n",
    "        \"training_accuracy\": train_accuracy,\n",
    "        \"validation_accuracy\": val_accuracy\n",
    "    }\n",
    "    with open(last_model_meta_path, 'w') as f:\n",
    "        json.dump(last_model_meta, f)\n",
    "    print(f\"Last model saved: {last_model_path}\")\n",
    "\n",
    "    # Update history\n",
    "    train_loss_history.append(train_loss)\n",
    "    val_loss_history.append(val_loss)\n",
    "    train_accuracy_history.append(train_accuracy)\n",
    "    val_accuracy_history.append(val_accuracy)\n",
    "    np.save(history_path, {\n",
    "        'train_loss': train_loss_history,\n",
    "        'val_loss': val_loss_history,\n",
    "        'train_accuracy': train_accuracy_history,\n",
    "        'val_accuracy': val_accuracy_history\n",
    "    })\n",
    "\n",
    "print(\"Training complete.\")"
   ]
  },
  {
   "cell_type": "code",
   "execution_count": 15,
   "id": "6f571a22-9df6-418b-bb6f-3afe388864ca",
   "metadata": {
    "execution": {
     "iopub.execute_input": "2024-08-13T14:42:51.368877Z",
     "iopub.status.busy": "2024-08-13T14:42:51.368629Z",
     "iopub.status.idle": "2024-08-13T14:42:53.110653Z",
     "shell.execute_reply": "2024-08-13T14:42:53.109930Z"
    }
   },
   "outputs": [
    {
     "name": "stdout",
     "output_type": "stream",
     "text": [
      "train loss:  0.5173328345020612\n",
      "validation loss:  0.5986669063568115\n"
     ]
    },
    {
     "data": {
      "image/png": "[encoded data removed]",
      "text/plain": [
       "<Figure size 640x480 with 1 Axes>"
      ]
     },
     "metadata": {},
     "output_type": "display_data"
    }
   ],
   "source": [
    "history_path = SAVING_DIR + '/training_history_'+str(NUM_EPOCHS)+'.npy'\n",
    "\n",
    "# Load the history from the .npy file\n",
    "history = np.load(history_path, allow_pickle=True).item()\n",
    "\n",
    "# Extract the train and validation loss histories\n",
    "train_loss_history = history['train_loss']\n",
    "val_loss_history = history['val_loss']\n",
    "\n",
    "print('train loss: ', train_loss_history[-1])\n",
    "print('validation loss: ', val_loss_history[-1])\n",
    "\n",
    "plotter = LossPlotter(train_loss_history, val_loss_history)\n",
    "plotter.plot()"
   ]
  },
  {
   "cell_type": "code",
   "execution_count": 16,
   "id": "2294fcc3-65c6-4615-bd6d-6615b75cb85d",
   "metadata": {
    "execution": {
     "iopub.execute_input": "2024-08-13T14:42:53.114372Z",
     "iopub.status.busy": "2024-08-13T14:42:53.114107Z",
     "iopub.status.idle": "2024-08-13T14:42:53.399219Z",
     "shell.execute_reply": "2024-08-13T14:42:53.398396Z"
    }
   },
   "outputs": [
    {
     "name": "stdout",
     "output_type": "stream",
     "text": [
      "train acc:  0.9946632385253906\n",
      "validation acc:  0.9964333772659302\n"
     ]
    },
    {
     "data": {
      "image/png": "[encoded data removed]",
      "text/plain": [
       "<Figure size 640x480 with 1 Axes>"
      ]
     },
     "metadata": {},
     "output_type": "display_data"
    }
   ],
   "source": [
    "train_acc_history = history['train_accuracy']\n",
    "val_acc_history = history['val_accuracy']\n",
    "\n",
    "print('train acc: ', np.max(train_acc_history))\n",
    "print('validation acc: ', np.max(val_acc_history))\n",
    "\n",
    "plotter = AccPlotter(train_acc_history, val_acc_history)\n",
    "plotter.plot()"
   ]
  },
  {
   "cell_type": "markdown",
   "id": "1b1c14cd-c52a-4239-82cd-5482f19cde8c",
   "metadata": {},
   "source": [
    "### Loading and testing the trained model"
   ]
  },
  {
   "cell_type": "code",
   "execution_count": 60,
   "id": "f2bc44fa-a2a4-4e98-8148-1a05151aa394",
   "metadata": {
    "execution": {
     "iopub.execute_input": "2024-08-13T14:42:53.404467Z",
     "iopub.status.busy": "2024-08-13T14:42:53.404009Z",
     "iopub.status.idle": "2024-08-13T14:42:53.907077Z",
     "shell.execute_reply": "2024-08-13T14:42:53.906466Z"
    }
   },
   "outputs": [
    {
     "name": "stdout",
     "output_type": "stream",
     "text": [
      "Model loaded successfully from best_model_75.pth\n"
     ]
    }
   ],
   "source": [
    "model_path = SAVING_DIR\n",
    "\n",
    "best_model_path = os.path.join(model_path, 'best_model_'+str(NUM_EPOCHS)+'.pth')\n",
    "model.load_state_dict(torch.load(best_model_path, map_location=DEVICE))\n",
    "\n",
    "print('Model loaded successfully from best_model_'+str(NUM_EPOCHS)+'.pth')"
   ]
  },
  {
   "cell_type": "code",
   "execution_count": 46,
   "id": "9fd5ec23-d178-446f-be5b-2de8059bc092",
   "metadata": {
    "execution": {
     "iopub.execute_input": "2024-08-13T14:42:53.910516Z",
     "iopub.status.busy": "2024-08-13T14:42:53.910253Z",
     "iopub.status.idle": "2024-08-13T14:42:53.966720Z",
     "shell.execute_reply": "2024-08-13T14:42:53.966065Z"
    }
   },
   "outputs": [],
   "source": [
    "weight = torch.tensor(\n",
    "          [[0.30],  # class 0 (water) \n",
    "          [0.05],   # class 1 (land)\n",
    "          [0.50],   # class 2 (non-bs to bs)\n",
    "          [0.15]],  # class 3 (bs) \n",
    "    device=DEVICE)\n",
    "\n",
    "# Initialize the LossComputation and MyAccuracy classes\n",
    "loss_computer = LossComputation(DEVICE, BATCH_SIZE, SIZE, NUM_CLASSES, weight)\n",
    "accuracy_metric = MyAccuracy(BATCH_SIZE, SIZE, NUM_CLASSES).to(DEVICE)\n",
    "\n",
    "# Optimizer\n",
    "optimizer = optim.Adam(model.parameters(), lr=LEARNING_RATE)"
   ]
  },
  {
   "cell_type": "code",
   "execution_count": 47,
   "id": "f1c77e41-26ff-4664-b753-8813dd1a4ae1",
   "metadata": {
    "execution": {
     "iopub.execute_input": "2024-08-13T14:42:53.970221Z",
     "iopub.status.busy": "2024-08-13T14:42:53.969947Z",
     "iopub.status.idle": "2024-08-13T14:44:45.984820Z",
     "shell.execute_reply": "2024-08-13T14:44:45.983635Z"
    }
   },
   "outputs": [
    {
     "name": "stdout",
     "output_type": "stream",
     "text": [
      "1, 2, Test Loss: 0.956, Test Accuracy: 0.993\n"
     ]
    }
   ],
   "source": [
    "model.eval()\n",
    "test_loss = 0.0\n",
    "accuracy_metric.reset()\n",
    "\n",
    "# saving tensors as numpy to apply a heatmap (optional)\n",
    "yy_hat_loaded = []\n",
    "yy_class_loaded = []\n",
    "\n",
    "first_batch = True\n",
    "\n",
    "with torch.no_grad():\n",
    "    for batch_num, (x, y) in enumerate(test_dataloader):\n",
    "        print(f\"{batch_num+1}, \", end=\"\")\n",
    "        \n",
    "        # Preprocess inputs\n",
    "        x = torch.transpose(x, 1, 2).to(DEVICE)\n",
    "        y = torch.transpose(y, 1, 2).squeeze().to(DEVICE)\n",
    "        \n",
    "        # Forward pass\n",
    "        y_hat = model(x)\n",
    "        y_hat = y_hat.squeeze()  # match the shape of y\n",
    "\n",
    "        yy = target_mask(y[:,0], BATCH_SIZE, SIZE).to(DEVICE)\n",
    "        yy_class = class_mask(NUM_CLASSES, y=yy).to(DEVICE)\n",
    "        yy_hat = pred_mask(y_hat[:,0], BATCH_SIZE, SIZE).to(DEVICE)\n",
    "\n",
    "        # saving the tensors to apply a heatmap\n",
    "        if first_batch:\n",
    "            # Save y_hat[:, 0] and yy_class only in the first batch\n",
    "            yy_hat_loaded = yy_hat.cpu().numpy()\n",
    "            yy_class_loaded = yy_class.cpu().numpy()\n",
    "            first_batch = False\n",
    "\n",
    "        # Compute loss\n",
    "        loss = loss_computer.compute_loss(y_hat, y)\n",
    "        test_loss += loss.item()\n",
    "\n",
    "        # Update accuracy metric\n",
    "        accuracy_metric.update(y_hat[:, 0], y[:, 0])\n",
    "\n",
    "test_loss /= len(test_dataloader.sampler)\n",
    "test_accuracy = accuracy_metric.compute().item()\n",
    "accuracy_metric.reset()\n",
    "print(f\"Test Loss: {test_loss:.3f}, Test Accuracy: {test_accuracy:.3f}\")"
   ]
  },
  {
   "cell_type": "markdown",
   "id": "1816f927",
   "metadata": {},
   "source": [
    "### Showing a unique sample with the target and the respective prediction  "
   ]
  },
  {
   "cell_type": "code",
   "execution_count": 50,
   "id": "a6d0c32a-df36-4fba-9916-0317801bbba4",
   "metadata": {
    "execution": {
     "iopub.execute_input": "2024-08-13T14:44:45.991493Z",
     "iopub.status.busy": "2024-08-13T14:44:45.991064Z",
     "iopub.status.idle": "2024-08-13T14:44:46.570386Z",
     "shell.execute_reply": "2024-08-13T14:44:46.569639Z"
    }
   },
   "outputs": [
    {
     "data": {
      "image/png": "[encoded data removed]",
      "text/plain": [
       "<Figure size 1000x800 with 2 Axes>"
      ]
     },
     "metadata": {},
     "output_type": "display_data"
    },
    {
     "data": {
      "image/png": "[encoded data removed]",
      "text/plain": [
       "<Figure size 1000x800 with 2 Axes>"
      ]
     },
     "metadata": {},
     "output_type": "display_data"
    }
   ],
   "source": [
    "import matplotlib.pyplot as plt\n",
    "from matplotlib.colors import ListedColormap, BoundaryNorm\n",
    "\n",
    "# Extract specific colors from the 'RdYlGn' colormap\n",
    "base_cmap = plt.get_cmap('RdYlGn')\n",
    "colors = ['blue', base_cmap(0.90), base_cmap(0.5), base_cmap(0)]  # Extract colors at specific points\n",
    "cmap = ListedColormap(colors)\n",
    "\n",
    "# [water, land, land-to-bs, bs]\n",
    "# 0.0 red\n",
    "\n",
    "n_0 = 11\n",
    "\n",
    "# Define the normalization\n",
    "norm = BoundaryNorm(boundaries=[-0.5, 0.5, 1.5, 2.5, 3.5], ncolors=4)\n",
    "\n",
    "# Create a combined heatmap for yy_class_loaded\n",
    "first_batch_all_classes = yy_class_loaded[:, n_0] \n",
    "\n",
    "# Initialize an empty array to store the class information\n",
    "combined_classes = np.zeros_like(first_batch_all_classes[0])\n",
    "\n",
    "# Assign each class a unique identifier (0, 1, 2, 3)\n",
    "for i in range(4):\n",
    "    combined_classes[first_batch_all_classes[i] == 1] = i\n",
    "\n",
    "plt.figure(figsize=(10, 8))\n",
    "plt.imshow(combined_classes, cmap=cmap, norm=norm, interpolation='nearest')\n",
    "cbar = plt.colorbar(ticks=[0, 1, 2, 3], label='Class Label')\n",
    "cbar.ax.set_yticklabels(['Water', 'Land', 'Land to Building', 'Building'])\n",
    "plt.title('Target 2015')\n",
    "plt.xlabel('Column Index')\n",
    "plt.ylabel('Row Index')\n",
    "plt.show()\n",
    "\n",
    "# Create a heatmap for yy_hat_loaded\n",
    "first_element = yy_hat_loaded[n_0]\n",
    "\n",
    "plt.figure(figsize=(10, 8))\n",
    "plt.imshow(first_element, cmap=cmap, norm=norm, interpolation='nearest')\n",
    "cbar = plt.colorbar(ticks=[0, 1, 2, 3], label='Class Label')\n",
    "cbar.ax.set_yticklabels(['Water', 'Land', 'Land to Building', 'Building'])\n",
    "plt.title('Predicted 2015')\n",
    "plt.xlabel('Column Index')\n",
    "plt.ylabel('Row Index')\n",
    "plt.show()"
   ]
  },
  {
   "cell_type": "markdown",
   "id": "f95dd184",
   "metadata": {},
   "source": [
    "### Showing 6 samples with the target and the respective prediction"
   ]
  },
  {
   "cell_type": "code",
   "execution_count": 58,
   "id": "48630bc8",
   "metadata": {},
   "outputs": [
    {
     "data": {
      "image/png": "[encoded data removed]",
      "text/plain": [
       "<Figure size 900x600 with 13 Axes>"
      ]
     },
     "metadata": {},
     "output_type": "display_data"
    }
   ],
   "source": [
    "n_samples=6\n",
    "box = dict(facecolor='white', pad=5, alpha=0.2)\n",
    "fig, axs = plt.subplots(nrows=2, ncols=n_samples, figsize=(9, 6),\n",
    "                        subplot_kw={'xticks': [], 'yticks': []})\n",
    "n=11\n",
    "n_0=n\n",
    "first_time=True\n",
    "images = []\n",
    "for ax in axs.flat:\n",
    "    n_0=n_0+1\n",
    "\n",
    "    # Define the normalization\n",
    "    norm = BoundaryNorm(boundaries=[-0.5, 0.5, 1.5, 2.5, 3.5], ncolors=4)\n",
    "    # Create a combined heatmap for yy_class_loaded\n",
    "    first_batch_all_classes = yy_class_loaded[:, n_0] \n",
    "    # Initialize an empty array to store the class information\n",
    "    combined_classes = np.zeros_like(first_batch_all_classes[0])\n",
    "    # Assign each class a unique identifier (0, 1, 2, 3)\n",
    "    for i in range(4):\n",
    "        combined_classes[first_batch_all_classes[i] == 1] = i\n",
    "    if (first_time):\n",
    "        \n",
    "        images.append(ax.imshow(combined_classes, cmap=cmap, norm=norm, interpolation='nearest'))\n",
    "        \n",
    "        if n_0==n+1:\n",
    "            ax.set_ylabel('Target 2015', bbox=box)\n",
    "    else:\n",
    "        # Create a heatmap for yy_hat_loaded\n",
    "        first_element = yy_hat_loaded[n_0]\n",
    "        images.append(ax.imshow(first_element, cmap=cmap, norm=norm, interpolation='nearest'))\n",
    "        if n_0==n+1:\n",
    "            ax.set_ylabel('Predicted 2015', bbox=box)\n",
    "    #ax.imshow(grid, interpolation=interp_method, cmap='viridis')\n",
    "    #ax.set_title(str(interp_method))\n",
    "    if n_0==(n+n_samples):\n",
    "        n_0 = n\n",
    "        first_time=False\n",
    "\n",
    "#cbar = plt.colorbar(ticks=[0, 1, 2, 3], label='Class Label')\n",
    "#cbar.ax.set_yticklabels(['Water', 'Land', 'Land to Building', 'Building'])\n",
    "#fig.colorbar(images[0], ax=axs, orientation='horizontal', fraction=.1)\n",
    "cbar = fig.colorbar(images[0], ax=axs,ticks=[0, 1, 2, 3], label='Class Label', orientation='horizontal' , location='bottom', fraction=.13)\n",
    "cbar.ax.set_xticklabels(['Water', 'Land', 'Land to Building', 'Building'])\n",
    "fig.suptitle('Training 2000-2014 - Predicting 2015')\n",
    "fig.text(0.5, 0.04, 'longitude', ha='center', va='bottom')\n",
    "fig.text(0.04, 0.5, 'latitude', va='center', rotation='vertical')\n",
    "plt.show()"
   ]
  },
  {
   "cell_type": "code",
   "execution_count": null,
   "id": "af608e55",
   "metadata": {},
   "outputs": [],
   "source": []
  }
 ],
 "metadata": {
  "kernelspec": {
   "display_name": "Python 3 (ipykernel)",
   "language": "python",
   "name": "python3"
  },
  "language_info": {
   "codemirror_mode": {
    "name": "ipython",
    "version": 3
   },
   "file_extension": ".py",
   "mimetype": "text/x-python",
   "name": "python",
   "nbconvert_exporter": "python",
   "pygments_lexer": "ipython3",
   "version": "3.10.13"
  }
 },
 "nbformat": 4,
 "nbformat_minor": 5
}
